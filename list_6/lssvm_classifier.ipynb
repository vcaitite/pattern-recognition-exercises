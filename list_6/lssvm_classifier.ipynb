{
 "cells": [
  {
   "cell_type": "markdown",
   "id": "4814f1ad",
   "metadata": {},
   "source": [
    "# Objetivos\n",
    "\n",
    "Nesse exercício relacionado ao tema LSSVM (Least Squares Support Vector Machine), busca-se aplicar o classificador LSSVM a um problema de classificação real. Deseja-se ao final deste exercício conseguir realizar uma classificação de tipos de vidros do dataset \"Glass Identification Database\", encontrado em [1]. \n",
    "\n",
    "Esse *dataset* possui 214 intâncias e 9 atributos além de um identificador. Abaixo podem ser vistas algumas informações sobre os atributos.\n",
    "\n",
    "\n",
    "   1. Id number: 1 a 214\n",
    "   2. RI: índice de refração\n",
    "   3. Na: Sódio (unidade de medida: porcentagem no peso do óxido correspondente, assim como nos atributos 4-10)\n",
    "   4. Mg: Magnésio\n",
    "   5. Al: Alumínio\n",
    "   6. Si: Silício\n",
    "   7. K: Potássio\n",
    "   8. Ca: Cálcio\n",
    "   9. Ba: Bário\n",
    "   10. Fe: Ferro\n",
    "   11. Tipo de vidro: (atributo de classe)\n",
    "  \n",
    "      - 1 building_windows_float_processed\n",
    "      - 2 building_windows_non_float_processed\n",
    "      - 3 vehicle_windows_float_processed\n",
    "      - 4 vehicle_windows_non_float_processed (none in this database)\n",
    "      - 5 containers\n",
    "      - 6 tableware\n",
    "      - 7 headlamps\n",
    "\n"
   ]
  },
  {
   "cell_type": "markdown",
   "id": "03eb1125",
   "metadata": {},
   "source": [
    "# Carregar base de dados"
   ]
  },
  {
   "cell_type": "code",
   "execution_count": 1,
   "id": "45b6aa35",
   "metadata": {},
   "outputs": [],
   "source": [
    "# Imports:\n",
    "from numpy import pi\n",
    "import pandas as pd\n",
    "from sklearn.model_selection import train_test_split\n",
    "from lssvm import LSSVC\n",
    "from utils.encoding import dummie2multilabel\n",
    "import numpy as np\n",
    "from sklearn.preprocessing import MinMaxScaler\n",
    "from mpl_toolkits.mplot3d import Axes3D  \n",
    "import matplotlib.pyplot as plt\n",
    "from sklearn.metrics import confusion_matrix, classification_report, accuracy_score\n",
    "from sklearn.model_selection import GridSearchCV \n",
    "import warnings\n",
    "from sklearn.preprocessing import StandardScaler\n",
    "from sklearn.pipeline import make_pipeline\n",
    "import itertools\n",
    "warnings.filterwarnings(\"ignore\")"
   ]
  },
  {
   "cell_type": "code",
   "execution_count": 2,
   "id": "ca0c0613",
   "metadata": {},
   "outputs": [
    {
     "data": {
      "text/html": [
       "<div>\n",
       "<style scoped>\n",
       "    .dataframe tbody tr th:only-of-type {\n",
       "        vertical-align: middle;\n",
       "    }\n",
       "\n",
       "    .dataframe tbody tr th {\n",
       "        vertical-align: top;\n",
       "    }\n",
       "\n",
       "    .dataframe thead th {\n",
       "        text-align: right;\n",
       "    }\n",
       "</style>\n",
       "<table border=\"1\" class=\"dataframe\">\n",
       "  <thead>\n",
       "    <tr style=\"text-align: right;\">\n",
       "      <th></th>\n",
       "      <th>Id</th>\n",
       "      <th>RI</th>\n",
       "      <th>Na</th>\n",
       "      <th>Mg</th>\n",
       "      <th>Al</th>\n",
       "      <th>Si</th>\n",
       "      <th>K</th>\n",
       "      <th>Ca</th>\n",
       "      <th>Ba</th>\n",
       "      <th>Fe</th>\n",
       "      <th>Class</th>\n",
       "    </tr>\n",
       "  </thead>\n",
       "  <tbody>\n",
       "    <tr>\n",
       "      <th>0</th>\n",
       "      <td>1</td>\n",
       "      <td>1.52101</td>\n",
       "      <td>13.64</td>\n",
       "      <td>4.49</td>\n",
       "      <td>1.10</td>\n",
       "      <td>71.78</td>\n",
       "      <td>0.06</td>\n",
       "      <td>8.75</td>\n",
       "      <td>0.0</td>\n",
       "      <td>0.0</td>\n",
       "      <td>1</td>\n",
       "    </tr>\n",
       "    <tr>\n",
       "      <th>1</th>\n",
       "      <td>2</td>\n",
       "      <td>1.51761</td>\n",
       "      <td>13.89</td>\n",
       "      <td>3.60</td>\n",
       "      <td>1.36</td>\n",
       "      <td>72.73</td>\n",
       "      <td>0.48</td>\n",
       "      <td>7.83</td>\n",
       "      <td>0.0</td>\n",
       "      <td>0.0</td>\n",
       "      <td>1</td>\n",
       "    </tr>\n",
       "    <tr>\n",
       "      <th>2</th>\n",
       "      <td>3</td>\n",
       "      <td>1.51618</td>\n",
       "      <td>13.53</td>\n",
       "      <td>3.55</td>\n",
       "      <td>1.54</td>\n",
       "      <td>72.99</td>\n",
       "      <td>0.39</td>\n",
       "      <td>7.78</td>\n",
       "      <td>0.0</td>\n",
       "      <td>0.0</td>\n",
       "      <td>1</td>\n",
       "    </tr>\n",
       "    <tr>\n",
       "      <th>3</th>\n",
       "      <td>4</td>\n",
       "      <td>1.51766</td>\n",
       "      <td>13.21</td>\n",
       "      <td>3.69</td>\n",
       "      <td>1.29</td>\n",
       "      <td>72.61</td>\n",
       "      <td>0.57</td>\n",
       "      <td>8.22</td>\n",
       "      <td>0.0</td>\n",
       "      <td>0.0</td>\n",
       "      <td>1</td>\n",
       "    </tr>\n",
       "    <tr>\n",
       "      <th>4</th>\n",
       "      <td>5</td>\n",
       "      <td>1.51742</td>\n",
       "      <td>13.27</td>\n",
       "      <td>3.62</td>\n",
       "      <td>1.24</td>\n",
       "      <td>73.08</td>\n",
       "      <td>0.55</td>\n",
       "      <td>8.07</td>\n",
       "      <td>0.0</td>\n",
       "      <td>0.0</td>\n",
       "      <td>1</td>\n",
       "    </tr>\n",
       "  </tbody>\n",
       "</table>\n",
       "</div>"
      ],
      "text/plain": [
       "   Id       RI     Na    Mg    Al     Si     K    Ca   Ba   Fe  Class\n",
       "0   1  1.52101  13.64  4.49  1.10  71.78  0.06  8.75  0.0  0.0      1\n",
       "1   2  1.51761  13.89  3.60  1.36  72.73  0.48  7.83  0.0  0.0      1\n",
       "2   3  1.51618  13.53  3.55  1.54  72.99  0.39  7.78  0.0  0.0      1\n",
       "3   4  1.51766  13.21  3.69  1.29  72.61  0.57  8.22  0.0  0.0      1\n",
       "4   5  1.51742  13.27  3.62  1.24  73.08  0.55  8.07  0.0  0.0      1"
      ]
     },
     "execution_count": 2,
     "metadata": {},
     "output_type": "execute_result"
    }
   ],
   "source": [
    "# Loading dataset:\n",
    "headers = [\"Id\", \"RI\", \"Na\", \"Mg\", \"Al\", \"Si\", \"K\", \"Ca\", \"Ba\", \"Fe\", \"Class\"]\n",
    "df = pd.read_csv(\"~/Documents/UFMG/10/Reconhecimento de padrões/list/pattern-recognition-exercises/list_5/databases/glass.csv\", names = headers)\n",
    "#df.columns = headers\n",
    "df.head()"
   ]
  },
  {
   "cell_type": "markdown",
   "id": "4dd3f341",
   "metadata": {},
   "source": [
    "# Pré processamento dos dados"
   ]
  },
  {
   "cell_type": "markdown",
   "id": "69538e8f",
   "metadata": {},
   "source": [
    "Abaixo retirou-se a coluna Id e separou-se os dados de atributos (X) dos de classe (y). Além disso, foi realizada a normalização dos dados."
   ]
  },
  {
   "cell_type": "code",
   "execution_count": 3,
   "id": "001dab14",
   "metadata": {},
   "outputs": [],
   "source": [
    "X = df.drop(\"Class\", axis=1)\n",
    "X = X.drop(\"Id\", axis=1).to_numpy()\n",
    "y = df[\"Class\"].to_numpy()\n",
    "normalizer = StandardScaler()\n",
    "X = normalizer.fit_transform(X)"
   ]
  },
  {
   "cell_type": "markdown",
   "id": "21a64ea3",
   "metadata": {},
   "source": [
    "# Treinamento e validação \n",
    "\n",
    "Como requisitado, abaixo está mostrado a acurácia média e desvio padrão para 10 experimentos variando randomicamente o conjunto de treinamento e teste. A cada iteração 85% dos dados foram usados para treinamento e 15% para teste."
   ]
  },
  {
   "cell_type": "code",
   "execution_count": 4,
   "id": "67d47ada",
   "metadata": {},
   "outputs": [
    {
     "name": "stdout",
     "output_type": "stream",
     "text": [
      "O melhor resultado foi obtido para gamma = 8 e sigma = 6\n",
      "A acurácia média e desvio padrão para 10 experimentos foi:\n",
      "0.747 +/- 0.052\n"
     ]
    }
   ],
   "source": [
    "acc = np.zeros(10)\n",
    "best_result = (0, 0)\n",
    "best_params = (0, 0)\n",
    "for gamma, sigma in itertools.product(range(1, 10), range(1,10)):\n",
    "    for i in range(0, 10):\n",
    "        # Separate data between training and test:\n",
    "        X_train, X_test, y_train, y_test = train_test_split(X, y, test_size=0.2)\n",
    "\n",
    "        # Training:\n",
    "        clf = LSSVC(gamma=gamma, kernel='rbf', sigma=sigma)\n",
    "        clf.fit(X_train, y_train)\n",
    "\n",
    "        # Call predict on the estimator with the best found parameters.\n",
    "        y_pred = clf.predict(X_test)\n",
    "        acc[i] = (accuracy_score(y_test,y_pred))\n",
    "    \n",
    "    if acc.mean() >= best_result[0]:\n",
    "        best_result = (acc.mean(), acc.std())\n",
    "        best_params = (gamma, sigma)\n",
    "\n",
    "print(\"O melhor resultado foi obtido para gamma = \" + str(best_params[0]) + \" e sigma = \" + str(best_params[1]))        \n",
    "print(\"A acurácia média e desvio padrão para 10 experimentos foi:\")\n",
    "print('{:.3f}'.format(best_result[0]) + \" +/- \" + '{:.3f}'.format(best_result[1])) "
   ]
  },
  {
   "cell_type": "markdown",
   "id": "40cd2e65",
   "metadata": {},
   "source": [
    "Como pode-se ver acima, o modelo gerado obteve uma acurácia de 0.747 +/- 0.052, considerando os 10 experimentos realizados. Esse resultado foi obtido pelo modelo gerado com os parâmetros: gamma = 2  e sigma = 3.\n",
    "\n",
    "Para o último experimento foi gerada ainda a matrix de confusão da classificação. "
   ]
  },
  {
   "cell_type": "code",
   "execution_count": 9,
   "id": "579deb23",
   "metadata": {},
   "outputs": [
    {
     "name": "stdout",
     "output_type": "stream",
     "text": [
      "[[ 9  3  0  0  0  0]\n",
      " [ 0 10  0  1  0  0]\n",
      " [ 2  0  0  0  0  0]\n",
      " [ 0  1  0  3  0  0]\n",
      " [ 0  0  0  1  1  0]\n",
      " [ 1  0  0  0  0 11]]\n",
      "Acc: 0.7906976744186046\n"
     ]
    },
    {
     "data": {
      "image/png": "[encoded data removed]",
      "text/plain": [
       "<Figure size 288x288 with 2 Axes>"
      ]
     },
     "metadata": {
      "needs_background": "light"
     },
     "output_type": "display_data"
    }
   ],
   "source": [
    "clf = LSSVC(gamma=8, kernel='rbf', sigma=8)\n",
    "X_train, X_test, y_train, y_test = train_test_split(X, y, test_size=0.2)\n",
    "clf.fit(X_train, y_train)\n",
    "y_pred = clf.predict(X_test)\n",
    "df_confusion = confusion_matrix(y_test, y_pred)\n",
    "print(df_confusion)\n",
    "\n",
    "def plot_confusion_matrix(df_confusion, cmap=plt.cm.viridis):\n",
    "    plt.matshow(df_confusion, cmap=cmap) # imshow\n",
    "    #plt.title(\"title\")\n",
    "    plt.colorbar()\n",
    "    tick_marks = np.arange(len(np.unique(y_test)))\n",
    "    plt.xticks(tick_marks, np.unique(y_test))\n",
    "    plt.yticks(tick_marks, np.unique(y_test))\n",
    "    #plt.tight_layout()\n",
    "    \n",
    "plot_confusion_matrix(df_confusion)\n",
    "print(\"Acc: \" + str(accuracy_score(y_test,y_pred)))"
   ]
  },
  {
   "cell_type": "markdown",
   "id": "580b7ecf",
   "metadata": {},
   "source": [
    "Acredita-se que não foi possível obter um classificador melhor devido a pequena quantidade de dados e também ao fato de a quantidade de dados por classe estar desbalanceada."
   ]
  },
  {
   "cell_type": "markdown",
   "id": "3ee94a94",
   "metadata": {},
   "source": [
    "# Referências\n",
    "\n",
    "[1] Blake, Catherine. \"UCI repository of machine learning databases.\" http://www.ics.uci.edu/~mlearn/MLRepository.html (1998)."
   ]
  }
 ],
 "metadata": {
  "kernelspec": {
   "display_name": "Python 3",
   "language": "python",
   "name": "python3"
  },
  "language_info": {
   "codemirror_mode": {
    "name": "ipython",
    "version": 3
   },
   "file_extension": ".py",
   "mimetype": "text/x-python",
   "name": "python",
   "nbconvert_exporter": "python",
   "pygments_lexer": "ipython3",
   "version": "3.6.7"
  }
 },
 "nbformat": 4,
 "nbformat_minor": 5
}

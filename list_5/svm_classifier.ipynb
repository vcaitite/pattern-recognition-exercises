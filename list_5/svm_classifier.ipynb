{
 "cells": [
  {
   "cell_type": "markdown",
   "id": "4814f1ad",
   "metadata": {},
   "source": [
    "# Objetivos\n",
    "\n",
    "Nessa parte 2 do exercício relacionado ao tema SVM (Support Vector Machine), busca-se aplicar o classificador SVM a um problema de classificação real. Deseja-se ao final deste exercício conseguir realizar uma classificação de tipos de vidros do dataset \"Glass Identification Database\", encontrado em [1]. \n",
    "\n",
    "Esse *dataset* possui 214 intâncias e 9 atributos além de um identificador. Abaixo podem ser vistas algumas informações sobre os atributos.\n",
    "\n",
    "\n",
    "   1. Id number: 1 a 214\n",
    "   2. RI: índice de refração\n",
    "   3. Na: Sódio (unidade de medida: porcentagem no peso do óxido correspondente, assim como nos atributos 4-10)\n",
    "   4. Mg: Magnésio\n",
    "   5. Al: Alumínio\n",
    "   6. Si: Silício\n",
    "   7. K: Potássio\n",
    "   8. Ca: Cálcio\n",
    "   9. Ba: Bário\n",
    "   10. Fe: Ferro\n",
    "   11. Tipo de vidro: (atributo de classe)\n",
    "  \n",
    "      - 1 building_windows_float_processed\n",
    "      - 2 building_windows_non_float_processed\n",
    "      - 3 vehicle_windows_float_processed\n",
    "      - 4 vehicle_windows_non_float_processed (none in this database)\n",
    "      - 5 containers\n",
    "      - 6 tableware\n",
    "      - 7 headlamps\n",
    "\n"
   ]
  },
  {
   "cell_type": "markdown",
   "id": "03eb1125",
   "metadata": {},
   "source": [
    "# Carregar base de dados"
   ]
  },
  {
   "cell_type": "code",
   "execution_count": 1,
   "id": "45b6aa35",
   "metadata": {},
   "outputs": [],
   "source": [
    "# Imports:\n",
    "from numpy import pi\n",
    "import pandas as pd\n",
    "from sklearn.model_selection import train_test_split\n",
    "from sklearn import svm\n",
    "import numpy as np\n",
    "from mpl_toolkits.mplot3d import Axes3D  \n",
    "import matplotlib.pyplot as plt\n",
    "from sklearn.metrics import confusion_matrix, classification_report, precision_recall_curve, roc_auc_score, roc_curve, accuracy_score\n",
    "from sklearn.metrics import plot_confusion_matrix\n",
    "from sklearn.model_selection import GridSearchCV \n",
    "import warnings\n",
    "warnings.filterwarnings(\"ignore\")"
   ]
  },
  {
   "cell_type": "code",
   "execution_count": 2,
   "id": "ca0c0613",
   "metadata": {},
   "outputs": [
    {
     "data": {
      "text/html": [
       "<div>\n",
       "<style scoped>\n",
       "    .dataframe tbody tr th:only-of-type {\n",
       "        vertical-align: middle;\n",
       "    }\n",
       "\n",
       "    .dataframe tbody tr th {\n",
       "        vertical-align: top;\n",
       "    }\n",
       "\n",
       "    .dataframe thead th {\n",
       "        text-align: right;\n",
       "    }\n",
       "</style>\n",
       "<table border=\"1\" class=\"dataframe\">\n",
       "  <thead>\n",
       "    <tr style=\"text-align: right;\">\n",
       "      <th></th>\n",
       "      <th>Id</th>\n",
       "      <th>RI</th>\n",
       "      <th>Na</th>\n",
       "      <th>Mg</th>\n",
       "      <th>Al</th>\n",
       "      <th>Si</th>\n",
       "      <th>K</th>\n",
       "      <th>Ca</th>\n",
       "      <th>Ba</th>\n",
       "      <th>Fe</th>\n",
       "      <th>Class</th>\n",
       "    </tr>\n",
       "  </thead>\n",
       "  <tbody>\n",
       "    <tr>\n",
       "      <th>0</th>\n",
       "      <td>1</td>\n",
       "      <td>1.52101</td>\n",
       "      <td>13.64</td>\n",
       "      <td>4.49</td>\n",
       "      <td>1.10</td>\n",
       "      <td>71.78</td>\n",
       "      <td>0.06</td>\n",
       "      <td>8.75</td>\n",
       "      <td>0.0</td>\n",
       "      <td>0.0</td>\n",
       "      <td>1</td>\n",
       "    </tr>\n",
       "    <tr>\n",
       "      <th>1</th>\n",
       "      <td>2</td>\n",
       "      <td>1.51761</td>\n",
       "      <td>13.89</td>\n",
       "      <td>3.60</td>\n",
       "      <td>1.36</td>\n",
       "      <td>72.73</td>\n",
       "      <td>0.48</td>\n",
       "      <td>7.83</td>\n",
       "      <td>0.0</td>\n",
       "      <td>0.0</td>\n",
       "      <td>1</td>\n",
       "    </tr>\n",
       "    <tr>\n",
       "      <th>2</th>\n",
       "      <td>3</td>\n",
       "      <td>1.51618</td>\n",
       "      <td>13.53</td>\n",
       "      <td>3.55</td>\n",
       "      <td>1.54</td>\n",
       "      <td>72.99</td>\n",
       "      <td>0.39</td>\n",
       "      <td>7.78</td>\n",
       "      <td>0.0</td>\n",
       "      <td>0.0</td>\n",
       "      <td>1</td>\n",
       "    </tr>\n",
       "    <tr>\n",
       "      <th>3</th>\n",
       "      <td>4</td>\n",
       "      <td>1.51766</td>\n",
       "      <td>13.21</td>\n",
       "      <td>3.69</td>\n",
       "      <td>1.29</td>\n",
       "      <td>72.61</td>\n",
       "      <td>0.57</td>\n",
       "      <td>8.22</td>\n",
       "      <td>0.0</td>\n",
       "      <td>0.0</td>\n",
       "      <td>1</td>\n",
       "    </tr>\n",
       "    <tr>\n",
       "      <th>4</th>\n",
       "      <td>5</td>\n",
       "      <td>1.51742</td>\n",
       "      <td>13.27</td>\n",
       "      <td>3.62</td>\n",
       "      <td>1.24</td>\n",
       "      <td>73.08</td>\n",
       "      <td>0.55</td>\n",
       "      <td>8.07</td>\n",
       "      <td>0.0</td>\n",
       "      <td>0.0</td>\n",
       "      <td>1</td>\n",
       "    </tr>\n",
       "  </tbody>\n",
       "</table>\n",
       "</div>"
      ],
      "text/plain": [
       "   Id       RI     Na    Mg    Al     Si     K    Ca   Ba   Fe  Class\n",
       "0   1  1.52101  13.64  4.49  1.10  71.78  0.06  8.75  0.0  0.0      1\n",
       "1   2  1.51761  13.89  3.60  1.36  72.73  0.48  7.83  0.0  0.0      1\n",
       "2   3  1.51618  13.53  3.55  1.54  72.99  0.39  7.78  0.0  0.0      1\n",
       "3   4  1.51766  13.21  3.69  1.29  72.61  0.57  8.22  0.0  0.0      1\n",
       "4   5  1.51742  13.27  3.62  1.24  73.08  0.55  8.07  0.0  0.0      1"
      ]
     },
     "execution_count": 2,
     "metadata": {},
     "output_type": "execute_result"
    }
   ],
   "source": [
    "# Loading dataset:\n",
    "headers = [\"Id\", \"RI\", \"Na\", \"Mg\", \"Al\", \"Si\", \"K\", \"Ca\", \"Ba\", \"Fe\", \"Class\"]\n",
    "df = pd.read_csv(\"~/Documents/UFMG/10/Reconhecimento de padrões/list/pattern-recognition-exercises/list_5/databases/glass.csv\", names = headers)\n",
    "#df.columns = headers\n",
    "df.head()\n"
   ]
  },
  {
   "cell_type": "markdown",
   "id": "4dd3f341",
   "metadata": {},
   "source": [
    "# Separar os dados de atributos dos de classe"
   ]
  },
  {
   "cell_type": "code",
   "execution_count": 3,
   "id": "001dab14",
   "metadata": {},
   "outputs": [],
   "source": [
    "X = df.drop(\"Class\", axis=1)\n",
    "y = df[\"Class\"]\n",
    "X = df.drop(\"Id\", axis=1)"
   ]
  },
  {
   "cell_type": "markdown",
   "id": "672f2f5b",
   "metadata": {},
   "source": [
    "# Definição do valor de C\n",
    "\n",
    "Inicialmente decidiu-se tentar encontrar um bom valor para o parâmetro C. Para isso, utilizou-se a função  GridSearchCV do pacote sklearn. Essa fução realiza uma busca exaustiva sobre valores de parâmetros especificados para um estimador. Para tentar encontrar o melhor C é utilizada a técnica \"*10 fold cross validation*\" para cada um dos valores de C no *range* especificado.\n",
    "\n",
    "A validação cruzada consiste no particionamento do conjunto de dados em subconjuntos mutuamente exclusivos, e posteriormente, o uso de alguns destes subconjuntos para a estimação dos parâmetros do modelo (dados de treinamento), sendo os subconjuntos restantes (dados de validação ou de teste) empregados na validação do modelo.\n",
    "Nesse exercício foram utilizados 10 subconjuntos.\n"
   ]
  },
  {
   "cell_type": "code",
   "execution_count": 4,
   "id": "7f0c01e5",
   "metadata": {},
   "outputs": [
    {
     "data": {
      "text/plain": [
       "GridSearchCV(cv=10, estimator=SVC(), param_grid={'C': range(1, 100)},\n",
       "             scoring='accuracy')"
      ]
     },
     "execution_count": 4,
     "metadata": {},
     "output_type": "execute_result"
    }
   ],
   "source": [
    "parameters = {'C':range(1, 100)}\n",
    "svc = svm.SVC(kernel=\"rbf\")\n",
    "clf = GridSearchCV(svc, parameters, scoring='accuracy', refit=True, cv=10)  #To see results for each C just add: verbose=3\n",
    "# Run fit with all sets of parameters.\n",
    "clf.fit(X, y)"
   ]
  },
  {
   "cell_type": "code",
   "execution_count": 5,
   "id": "edfbefab",
   "metadata": {},
   "outputs": [
    {
     "name": "stdout",
     "output_type": "stream",
     "text": [
      "The best accuracy average was 0.8831168831168832 and was achieved for {'C': 94}\n"
     ]
    }
   ],
   "source": [
    "C = clf.best_params_\n",
    "score = clf.best_score_\n",
    "print(\"The best accuracy average was \" + str(score) + \" and was achieved for \" + str(C) )"
   ]
  },
  {
   "cell_type": "markdown",
   "id": "db82603a",
   "metadata": {},
   "source": [
    "Como pode ser visto acima o valor de C que resultou em uma melhor média de acurácia foi **C = 94**. A partir de então esse valor será utilizado para treinamento e teste dos modelos requisitados no relatório.  "
   ]
  },
  {
   "cell_type": "code",
   "execution_count": 6,
   "id": "37d47c20",
   "metadata": {},
   "outputs": [
    {
     "data": {
      "image/png": "[encoded data removed]",
      "text/plain": [
       "<Figure size 432x288 with 1 Axes>"
      ]
     },
     "metadata": {
      "needs_background": "light"
     },
     "output_type": "display_data"
    }
   ],
   "source": [
    "def plot_grid_search(cv_results, grid_param_1, name_param_1):\n",
    "    # Get Test Scores Mean and std for each grid search\n",
    "    scores_mean = cv_results['mean_test_score']\n",
    "    scores_mean = np.array(scores_mean)\n",
    "\n",
    "    scores_sd = cv_results['std_test_score']\n",
    "    scores_sd = np.array(scores_sd)\n",
    "\n",
    "    # Plot Grid search scores\n",
    "    _, ax = plt.subplots(1,1)\n",
    "\n",
    "    ax.plot(grid_param_1, scores_mean[:], '-o', color=\"red\")\n",
    "\n",
    "    ax.set_title(\"Grid Search Scores\", fontsize=20, fontweight='bold')\n",
    "    ax.set_xlabel(name_param_1, fontsize=16)\n",
    "    ax.set_ylabel('CV Average Score', fontsize=16)\n",
    "    ax.grid('on')\n",
    "\n",
    "# Calling Method \n",
    "Cs = np.arange(1,100)\n",
    "plot_grid_search(clf.cv_results_, Cs, 'N Estimators')"
   ]
  },
  {
   "cell_type": "markdown",
   "id": "21a64ea3",
   "metadata": {},
   "source": [
    "# Treinamento e validação \n",
    "\n",
    "Como requisitado, abaixo está mostrado a acurácia média e desvio padrão para 10 experimentos variando randomicamente o conjunto de treinamento e teste. A cada iteração 85% dos dados foram usados para treinamento e 15% para teste."
   ]
  },
  {
   "cell_type": "code",
   "execution_count": 19,
   "id": "67d47ada",
   "metadata": {},
   "outputs": [
    {
     "name": "stdout",
     "output_type": "stream",
     "text": [
      "A acurácia média e desvio padrão para 10 experimentos foi:\n",
      "0.915 +/- 0.038\n"
     ]
    }
   ],
   "source": [
    "acc = np.zeros(10)\n",
    "for i in range(0, 10):\n",
    "    # Separate data between training and test:\n",
    "    X_train, X_test, y_train, y_test = train_test_split(X, y, test_size=0.15)\n",
    "\n",
    "    # Training:\n",
    "    clf = svm.SVC(kernel=\"rbf\", C=94)\n",
    "    clf.fit(X_train, y_train)\n",
    "\n",
    "    # Call predict on the estimator with the best found parameters.\n",
    "    y_pred = clf.predict(X_test)\n",
    "    acc[i] = (accuracy_score(y_test,y_pred))\n",
    "    \n",
    "print(\"A acurácia média e desvio padrão para 10 experimentos foi:\")\n",
    "print('{:.3f}'.format(acc.mean()) + \" +/- \" + '{:.3f}'.format(acc.std())) "
   ]
  },
  {
   "cell_type": "markdown",
   "id": "40cd2e65",
   "metadata": {},
   "source": [
    "Como pode-se ver acima, o modelo gerado obteve uma acurácia de 0.915 +/- 0.038, considerando os 10 experimentos realizados.\n",
    "Para o último experimento foi gerada ainda a matrix de confusão da classificação. "
   ]
  },
  {
   "cell_type": "code",
   "execution_count": 20,
   "id": "579deb23",
   "metadata": {},
   "outputs": [
    {
     "data": {
      "text/plain": [
       "<sklearn.metrics._plot.confusion_matrix.ConfusionMatrixDisplay at 0x7f52d64e7860>"
      ]
     },
     "execution_count": 20,
     "metadata": {},
     "output_type": "execute_result"
    },
    {
     "data": {
      "image/png": "[encoded data removed]",
      "text/plain": [
       "<Figure size 432x288 with 2 Axes>"
      ]
     },
     "metadata": {
      "needs_background": "light"
     },
     "output_type": "display_data"
    }
   ],
   "source": [
    "plot_confusion_matrix(clf, X_test, y_test)"
   ]
  },
  {
   "cell_type": "markdown",
   "id": "3ee94a94",
   "metadata": {},
   "source": [
    "# Referências\n",
    "\n",
    "[1] Blake, Catherine. \"UCI repository of machine learning databases.\" http://www.ics.uci.edu/~mlearn/MLRepository.html (1998)."
   ]
  }
 ],
 "metadata": {
  "kernelspec": {
   "display_name": "Python 3",
   "language": "python",
   "name": "python3"
  },
  "language_info": {
   "codemirror_mode": {
    "name": "ipython",
    "version": 3
   },
   "file_extension": ".py",
   "mimetype": "text/x-python",
   "name": "python",
   "nbconvert_exporter": "python",
   "pygments_lexer": "ipython3",
   "version": "3.6.7"
  }
 },
 "nbformat": 4,
 "nbformat_minor": 5
}

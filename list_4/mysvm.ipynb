{
 "cells": [
  {
   "cell_type": "markdown",
   "id": "6f89831d",
   "metadata": {},
   "source": [
    "# Implementação própria do algoritmo SVM\n",
    "\n",
    "Abaixo tentou-se ainda uma implementação própria do algoritmo estudado (para ser aplicado apenas para problemas com separação linear). "
   ]
  },
  {
   "cell_type": "code",
   "execution_count": 3,
   "id": "6e9fdc2a",
   "metadata": {},
   "outputs": [],
   "source": [
    "import numpy as np\n",
    "\n",
    "class SVM:\n",
    "    \n",
    "    # To initialize the parameters from the SVM algorithm:\n",
    "    def __init__(self, alpha_param, lambda_param, iterations):\n",
    "        self.alpha_param = alpha_param    # Learning Rate\n",
    "        self.lambda_param = lambda_param  # Term of J equation\n",
    "        self.iterations = iterations       # Number of terations of training \n",
    "        self.w = None # Weights\n",
    "        self.b = None # Bias term\n",
    "   \n",
    "\n",
    "    # Training the model (using Gradient Descent)\n",
    "    def fit(self, X, y):\n",
    "        # First we need to initialize the weights and the bias term:\n",
    "        self.w = np.zeros(X.shape[1])\n",
    "        self.b = 0\n",
    "        # Gradient Descent:\n",
    "        for _ in range(self.iterations):\n",
    "            for index, x_i in enumerate(X):\n",
    "                if y[index] * (np.dot(x_i, self.w) - self.b) >= 1:\n",
    "                    # Derivatives:\n",
    "                    dJdw = 2 * self.lambda_param * self.w\n",
    "                    dJdb = 0\n",
    "                else:\n",
    "                    # Derivatives:\n",
    "                    dJdw = 2 * self.lambda_param * self.w - np.dot(x_i, y[index])\n",
    "                    dJdb = y[index]\n",
    "                # Update Rule:\n",
    "                self.w = self.w - self.alpha_param * dJdw\n",
    "                self.b = self.b - self.alpha_param * dJdb\n",
    "                \n",
    "        \n",
    "    # Just implements the equation: yi.(w.xi-b) >= 1\n",
    "    def predict(self, X):\n",
    "        return np.sign(np.dot(X, self.w) - self.b)\n",
    "    \n",
    "    # Just a simple function to adjust data in -1 and 1\n",
    "    def adjust_labels(self, y):\n",
    "        y = np.where(y <= 0, -1, 1)"
   ]
  },
  {
   "cell_type": "code",
   "execution_count": null,
   "id": "8827f42b",
   "metadata": {},
   "outputs": [],
   "source": []
  }
 ],
 "metadata": {
  "kernelspec": {
   "display_name": "Python 3",
   "language": "python",
   "name": "python3"
  },
  "language_info": {
   "codemirror_mode": {
    "name": "ipython",
    "version": 3
   },
   "file_extension": ".py",
   "mimetype": "text/x-python",
   "name": "python",
   "nbconvert_exporter": "python",
   "pygments_lexer": "ipython3",
   "version": "3.6.7"
  }
 },
 "nbformat": 4,
 "nbformat_minor": 5
}

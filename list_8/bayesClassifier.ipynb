{
 "cells": [
  {
   "cell_type": "markdown",
   "metadata": {},
   "source": [
    "# Experimento\n",
    "\n",
    "Neste exercício será resolvido um problema de classificação multivariado utilizando o classificador de bayes. A base de dados será uma real chamada heart [1], que contém os 13 atributos descritos abaixo:\n",
    "\n",
    "    - 1. idade     \n",
    "    - 2. sexo      \n",
    "    - 3. tipo de dor no peito  (4 values)       \n",
    "    - 4. pressão arterial em repouso  \n",
    "    - 5. colesterol sérico em mg / dl      \n",
    "    - 6. açúcar no sangue em jejum > 120 mg / dl     \n",
    "    - 7. resultados eletrocardiográficos de repouso (valores 0,1,2) \n",
    "    - 8. frequência cardíaca máxima alcançada \n",
    "    - 9. angina induzida por exercício    \n",
    "    - 10. oldpeak = depressão de ST induzida por exercício em relação ao repouso  \n",
    "    - 11. a inclinação do segmento ST de pico de exercício    \n",
    "    - 12. número de vasos principais (0-3) coloridos por fluoroscopia       \n",
    "    - 13. thal: 3 = normal; 6 = defeito corrigido; 7 = defeito reversível \n",
    "\n",
    "Com esse *database* deseja-se prever a variável que indica ausência (1) ou presença (2) de doença cardíaca. "
   ]
  },
  {
   "cell_type": "markdown",
   "metadata": {},
   "source": [
    "## Carregar base de dados"
   ]
  },
  {
   "cell_type": "code",
   "execution_count": 1,
   "metadata": {},
   "outputs": [],
   "source": [
    "import numpy as np\n",
    "import matplotlib.pyplot as plt\n",
    "import pandas as pd\n",
    "from sklearn.model_selection import train_test_split\n",
    "from scipy.stats import multivariate_normal\n",
    "from sklearn.linear_model import LogisticRegression\n",
    "from sklearn.metrics import confusion_matrix, classification_report, accuracy_score\n",
    "#from warnings import simplefilter\n",
    "#simplefilter(action='ignore', category=FutureWarning)"
   ]
  },
  {
   "cell_type": "code",
   "execution_count": 2,
   "metadata": {},
   "outputs": [
    {
     "data": {
      "text/html": [
       "<div>\n",
       "<style scoped>\n",
       "    .dataframe tbody tr th:only-of-type {\n",
       "        vertical-align: middle;\n",
       "    }\n",
       "\n",
       "    .dataframe tbody tr th {\n",
       "        vertical-align: top;\n",
       "    }\n",
       "\n",
       "    .dataframe thead th {\n",
       "        text-align: right;\n",
       "    }\n",
       "</style>\n",
       "<table border=\"1\" class=\"dataframe\">\n",
       "  <thead>\n",
       "    <tr style=\"text-align: right;\">\n",
       "      <th></th>\n",
       "      <th>0</th>\n",
       "      <th>1</th>\n",
       "      <th>2</th>\n",
       "      <th>3</th>\n",
       "      <th>4</th>\n",
       "      <th>5</th>\n",
       "      <th>6</th>\n",
       "      <th>7</th>\n",
       "      <th>8</th>\n",
       "      <th>9</th>\n",
       "      <th>10</th>\n",
       "      <th>11</th>\n",
       "      <th>12</th>\n",
       "      <th>13</th>\n",
       "    </tr>\n",
       "  </thead>\n",
       "  <tbody>\n",
       "    <tr>\n",
       "      <th>0</th>\n",
       "      <td>70.0</td>\n",
       "      <td>1.0</td>\n",
       "      <td>4.0</td>\n",
       "      <td>130.0</td>\n",
       "      <td>322.0</td>\n",
       "      <td>0.0</td>\n",
       "      <td>2.0</td>\n",
       "      <td>109.0</td>\n",
       "      <td>0.0</td>\n",
       "      <td>2.4</td>\n",
       "      <td>2.0</td>\n",
       "      <td>3.0</td>\n",
       "      <td>3.0</td>\n",
       "      <td>2</td>\n",
       "    </tr>\n",
       "    <tr>\n",
       "      <th>1</th>\n",
       "      <td>67.0</td>\n",
       "      <td>0.0</td>\n",
       "      <td>3.0</td>\n",
       "      <td>115.0</td>\n",
       "      <td>564.0</td>\n",
       "      <td>0.0</td>\n",
       "      <td>2.0</td>\n",
       "      <td>160.0</td>\n",
       "      <td>0.0</td>\n",
       "      <td>1.6</td>\n",
       "      <td>2.0</td>\n",
       "      <td>0.0</td>\n",
       "      <td>7.0</td>\n",
       "      <td>1</td>\n",
       "    </tr>\n",
       "    <tr>\n",
       "      <th>2</th>\n",
       "      <td>57.0</td>\n",
       "      <td>1.0</td>\n",
       "      <td>2.0</td>\n",
       "      <td>124.0</td>\n",
       "      <td>261.0</td>\n",
       "      <td>0.0</td>\n",
       "      <td>0.0</td>\n",
       "      <td>141.0</td>\n",
       "      <td>0.0</td>\n",
       "      <td>0.3</td>\n",
       "      <td>1.0</td>\n",
       "      <td>0.0</td>\n",
       "      <td>7.0</td>\n",
       "      <td>2</td>\n",
       "    </tr>\n",
       "    <tr>\n",
       "      <th>3</th>\n",
       "      <td>64.0</td>\n",
       "      <td>1.0</td>\n",
       "      <td>4.0</td>\n",
       "      <td>128.0</td>\n",
       "      <td>263.0</td>\n",
       "      <td>0.0</td>\n",
       "      <td>0.0</td>\n",
       "      <td>105.0</td>\n",
       "      <td>1.0</td>\n",
       "      <td>0.2</td>\n",
       "      <td>2.0</td>\n",
       "      <td>1.0</td>\n",
       "      <td>7.0</td>\n",
       "      <td>1</td>\n",
       "    </tr>\n",
       "    <tr>\n",
       "      <th>4</th>\n",
       "      <td>74.0</td>\n",
       "      <td>0.0</td>\n",
       "      <td>2.0</td>\n",
       "      <td>120.0</td>\n",
       "      <td>269.0</td>\n",
       "      <td>0.0</td>\n",
       "      <td>2.0</td>\n",
       "      <td>121.0</td>\n",
       "      <td>1.0</td>\n",
       "      <td>0.2</td>\n",
       "      <td>1.0</td>\n",
       "      <td>1.0</td>\n",
       "      <td>3.0</td>\n",
       "      <td>1</td>\n",
       "    </tr>\n",
       "  </tbody>\n",
       "</table>\n",
       "</div>"
      ],
      "text/plain": [
       "     0    1    2      3      4    5    6      7    8    9    10   11   12  13\n",
       "0  70.0  1.0  4.0  130.0  322.0  0.0  2.0  109.0  0.0  2.4  2.0  3.0  3.0   2\n",
       "1  67.0  0.0  3.0  115.0  564.0  0.0  2.0  160.0  0.0  1.6  2.0  0.0  7.0   1\n",
       "2  57.0  1.0  2.0  124.0  261.0  0.0  0.0  141.0  0.0  0.3  1.0  0.0  7.0   2\n",
       "3  64.0  1.0  4.0  128.0  263.0  0.0  0.0  105.0  1.0  0.2  2.0  1.0  7.0   1\n",
       "4  74.0  0.0  2.0  120.0  269.0  0.0  2.0  121.0  1.0  0.2  1.0  1.0  3.0   1"
      ]
     },
     "execution_count": 2,
     "metadata": {},
     "output_type": "execute_result"
    }
   ],
   "source": [
    "# Loading dataset:\n",
    "df = pd.read_csv(\"~/Documents/UFMG/10/Reconhecimento de padrões/list/pattern-recognition-exercises/list_8/databases/heart.dat\", header=None,  sep = ' ');\n",
    "df.head()"
   ]
  },
  {
   "cell_type": "markdown",
   "metadata": {},
   "source": [
    "## Separação em Conjunto de Treino e Teste\n",
    "\n",
    "Como solicitado no exercício deve-se separar os dados em um conjunto de treinamento com 90% dos dados e um conjunto de testes com 10% dos dados de forma aleatória."
   ]
  },
  {
   "cell_type": "code",
   "execution_count": 3,
   "metadata": {},
   "outputs": [],
   "source": [
    "X = df.iloc[:,0:-1]\n",
    "y = df.iloc[:,-1]\n",
    "# Separate data between training and test:\n",
    "X_train, X_test, y_train, y_test = train_test_split(X, y, test_size=0.1)"
   ]
  },
  {
   "cell_type": "markdown",
   "metadata": {},
   "source": [
    "## Desenvolvimento e Aplicação do Classificador"
   ]
  },
  {
   "cell_type": "code",
   "execution_count": 4,
   "metadata": {},
   "outputs": [],
   "source": [
    "# Bynary Bayes Classifier \n",
    "class bayes_classifier:\n",
    "\n",
    "    # To initialize the parameters from the Bayes algorithm:\n",
    "    def __init__(self):\n",
    "        self.p_ci = None\n",
    "        self.X_train = None\n",
    "        self.y_train = None\n",
    "        \n",
    "    # Training the model\n",
    "    def fit(self, X, y):\n",
    "        self.X_train = X\n",
    "        self.y_train = y\n",
    "        # Calculate P[C1], P[C2], ... , P[Cn]:\n",
    "        n = np.unique(y).shape[0]\n",
    "        self.p_ci =  np.zeros(n)\n",
    "        for i in range(0,n):\n",
    "            n_elements = np.count_nonzero(self.y_train==np.unique(self.y_train)[i])\n",
    "            total_elements = self.y_train.shape[0]\n",
    "            self.p_ci[i] = n_elements/total_elements\n",
    "    \n",
    "    def predict(self, X):\n",
    "        # Calculate PDFs:\n",
    "        n = np.unique(self.y_train).shape[0]\n",
    "        mean_ci = np.zeros(self.X_train.shape[1])\n",
    "        pdf = np.zeros(n)\n",
    "        y = np.zeros(X.shape[0])\n",
    "        index = 0; \n",
    "        for x in X:\n",
    "            for i in range(0,n):\n",
    "                indexes = np.where(self.y_train==np.unique(self.y_train)[i])\n",
    "                for col in range(0, self.X_train.shape[1]):\n",
    "                    mean_ci[col] = np.mean(self.X_train[indexes,col])       \n",
    "                cov = np.cov(self.X_train, rowvar=False)\n",
    "                pdf[i] = multivariate_normal.pdf(x, mean_ci, cov)\n",
    "            \n",
    "            K = (pdf[1] * self.p_ci[1])/(pdf[0] * self.p_ci[0])\n",
    "            if K >= 1:\n",
    "                y[index] = 2\n",
    "            else:\n",
    "                y[index] = 1\n",
    "            index += 1\n",
    "        return y"
   ]
  },
  {
   "cell_type": "code",
   "execution_count": 5,
   "metadata": {},
   "outputs": [],
   "source": [
    "clf = bayes_classifier()\n",
    "clf.fit(X_train.to_numpy(), y_train.to_numpy())\n",
    "y_pred = clf.predict(X_test.to_numpy())"
   ]
  },
  {
   "cell_type": "markdown",
   "metadata": {},
   "source": [
    "## Cálculo da Acurácia e da Matriz de Confusão"
   ]
  },
  {
   "cell_type": "code",
   "execution_count": 6,
   "metadata": {},
   "outputs": [
    {
     "name": "stdout",
     "output_type": "stream",
     "text": [
      "Matriz de Confusão:\n",
      "[[18  0]\n",
      " [ 2  7]]\n"
     ]
    }
   ],
   "source": [
    "df_confusion = confusion_matrix(y_test.to_numpy(), y_pred)\n",
    "print(\"Matriz de Confusão:\")\n",
    "print(df_confusion)"
   ]
  },
  {
   "cell_type": "code",
   "execution_count": 7,
   "metadata": {},
   "outputs": [
    {
     "name": "stdout",
     "output_type": "stream",
     "text": [
      "Acurácia: 0.9259259259259259\n"
     ]
    }
   ],
   "source": [
    "print(\"Acurácia: \" + str(accuracy_score(y_test,y_pred)))"
   ]
  },
  {
   "cell_type": "markdown",
   "metadata": {},
   "source": [
    "# Repetição do Experimento Utilizando 70% dos Dados para Treinamento"
   ]
  },
  {
   "cell_type": "markdown",
   "metadata": {},
   "source": [
    "## Separação em Conjunto de Treino e Teste\n",
    "\n",
    "Como solicitado, separou-se o dataset original em um conjunto de treinamento com 70% dos dados e um conjunto de testes com 30% dos dados de forma aleatória."
   ]
  },
  {
   "cell_type": "code",
   "execution_count": 8,
   "metadata": {},
   "outputs": [],
   "source": [
    "X = df.iloc[:,0:-1]\n",
    "y = df.iloc[:,-1]\n",
    "# Separate data between training and test:\n",
    "X_train, X_test, y_train, y_test = train_test_split(X, y, test_size=0.3)"
   ]
  },
  {
   "cell_type": "markdown",
   "metadata": {},
   "source": [
    "## Treinamento e Aplicação do Classificador"
   ]
  },
  {
   "cell_type": "code",
   "execution_count": 9,
   "metadata": {},
   "outputs": [],
   "source": [
    "clf = bayes_classifier()\n",
    "clf.fit(X_train.to_numpy(), y_train.to_numpy())\n",
    "y_pred = clf.predict(X_test.to_numpy())"
   ]
  },
  {
   "cell_type": "markdown",
   "metadata": {},
   "source": [
    "## Cálculo da Acurácia e da Matriz de Confusão"
   ]
  },
  {
   "cell_type": "code",
   "execution_count": 10,
   "metadata": {},
   "outputs": [
    {
     "name": "stdout",
     "output_type": "stream",
     "text": [
      "Matriz de Confusão:\n",
      "[[40  7]\n",
      " [ 3 31]]\n"
     ]
    }
   ],
   "source": [
    "df_confusion = confusion_matrix(y_test.to_numpy(), y_pred)\n",
    "print(\"Matriz de Confusão:\")\n",
    "print(df_confusion)"
   ]
  },
  {
   "cell_type": "code",
   "execution_count": 11,
   "metadata": {},
   "outputs": [
    {
     "name": "stdout",
     "output_type": "stream",
     "text": [
      "Acurácia: 0.8765432098765432\n"
     ]
    }
   ],
   "source": [
    "print(\"Acurácia: \" + str(accuracy_score(y_test,y_pred)))"
   ]
  },
  {
   "cell_type": "markdown",
   "metadata": {},
   "source": [
    "# Repetição do Experimento Utilizando 20% dos Dados para Treinamento"
   ]
  },
  {
   "cell_type": "markdown",
   "metadata": {},
   "source": [
    "## Separação em Conjunto de Treino e Teste\n",
    "\n",
    "Como solicitado, separou-se o dataset original em um conjunto de treinamento com 20% dos dados e um conjunto de testes com 80% dos dados de forma aleatória."
   ]
  },
  {
   "cell_type": "code",
   "execution_count": 12,
   "metadata": {},
   "outputs": [],
   "source": [
    "X = df.iloc[:,0:-1]\n",
    "y = df.iloc[:,-1]\n",
    "# Separate data between training and test:\n",
    "X_train, X_test, y_train, y_test = train_test_split(X, y, test_size=0.8)"
   ]
  },
  {
   "cell_type": "markdown",
   "metadata": {},
   "source": [
    "## Treinamento e Aplicação do Classificador"
   ]
  },
  {
   "cell_type": "code",
   "execution_count": 13,
   "metadata": {},
   "outputs": [],
   "source": [
    "clf = bayes_classifier()\n",
    "clf.fit(X_train.to_numpy(), y_train.to_numpy())\n",
    "y_pred = clf.predict(X_test.to_numpy())"
   ]
  },
  {
   "cell_type": "markdown",
   "metadata": {},
   "source": [
    "## Cálculo da Acurácia e da Matriz de Confusão"
   ]
  },
  {
   "cell_type": "code",
   "execution_count": 14,
   "metadata": {},
   "outputs": [
    {
     "name": "stdout",
     "output_type": "stream",
     "text": [
      "Matriz de Confusão:\n",
      "[[102  23]\n",
      " [ 15  76]]\n"
     ]
    }
   ],
   "source": [
    "df_confusion = confusion_matrix(y_test.to_numpy(), y_pred)\n",
    "print(\"Matriz de Confusão:\")\n",
    "print(df_confusion)"
   ]
  },
  {
   "cell_type": "code",
   "execution_count": 15,
   "metadata": {},
   "outputs": [
    {
     "name": "stdout",
     "output_type": "stream",
     "text": [
      "Acurácia: 0.8240740740740741\n"
     ]
    }
   ],
   "source": [
    "print(\"Acurácia: \" + str(accuracy_score(y_test,y_pred)))"
   ]
  },
  {
   "cell_type": "markdown",
   "metadata": {},
   "source": [
    "# Conclusão\n",
    "\n",
    "Neste trabalho pôde-se desenvolver um classificador de Bayes e aplicá-lo a um problema real de previsão de doença cardíaca. Utilizando 90% da base de dados para treinamento obteve-se uma acurácia de 0.926, o que foi considerado um bom resultado. Contudo, apenas 10% dos dados para se realizar a validação (o que equivale a 27 amostras) pode ser avaliado como pouco, além de não permitir examinar o modelo mais a fundo.\n",
    "\n",
    "Assim, o experimento foi repetido utilizando dessa vez 70% dos dados para treinamento e 30% para teste. Como pôde ser visto, obteve-se também um bom resultado, alcançando uma acurácia de 0.876 e uma matriz de confusão bem equilibrada.\n",
    "\n",
    "Por fim, foi repetido o processo novamente, desta vez utlizando somente 20% dos dados para treinamento e os outros 80% para teste. Neste teste, encontrou-se uma acurácia de 0.824. Apesar dessa ser um valor não tão distante dos obtidos anteriormente, vale citar que a baixa quantidade de dados tornou o modelo muito mais sensível aos dados que foram utilizados para treinamento. Observou-se que repetindo o treinamento algumas vezes com diferentes amostras, hora obtia-se um bom modelo, e hora obtia-se um modelo com acurácias consideravelmente mais baixas."
   ]
  },
  {
   "cell_type": "markdown",
   "metadata": {},
   "source": [
    "# Referências\n",
    "\n",
    "    [1] Dua, D. and Graff, C. (2019). UCI Machine Learning Repository [http://archive.ics.uci.edu/ml]. Irvine, CA: University of California, School of Information and Computer Science. "
   ]
  }
 ],
 "metadata": {
  "kernelspec": {
   "display_name": "Python 3",
   "language": "python",
   "name": "python3"
  },
  "language_info": {
   "codemirror_mode": {
    "name": "ipython",
    "version": 3
   },
   "file_extension": ".py",
   "mimetype": "text/x-python",
   "name": "python",
   "nbconvert_exporter": "python",
   "pygments_lexer": "ipython3",
   "version": "3.6.7"
  }
 },
 "nbformat": 4,
 "nbformat_minor": 2
}
